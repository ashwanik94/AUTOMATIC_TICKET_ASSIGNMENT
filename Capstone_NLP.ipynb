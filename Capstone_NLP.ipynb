{
  "nbformat": 4,
  "nbformat_minor": 0,
  "metadata": {
    "kernelspec": {
      "display_name": "Python 3",
      "language": "python",
      "name": "python3"
    },
    "language_info": {
      "codemirror_mode": {
        "name": "ipython",
        "version": 3
      },
      "file_extension": ".py",
      "mimetype": "text/x-python",
      "name": "python",
      "nbconvert_exporter": "python",
      "pygments_lexer": "ipython3",
      "version": "3.6.10"
    },
    "colab": {
      "name": "Capstone_NLP.ipynb",
      "provenance": [],
      "collapsed_sections": []
    },
    "accelerator": "GPU"
  },
  "cells": [
    {
      "cell_type": "code",
      "metadata": {
        "id": "94rLw2Nq90_U",
        "colab_type": "code",
        "colab": {
          "base_uri": "https://localhost:8080/",
          "height": 122
        },
        "outputId": "8f8793c5-7756-4966-8ca9-be4fb7f14344"
      },
      "source": [
        "from google.colab import drive\n",
        "drive.mount('/content/drive/')"
      ],
      "execution_count": 1,
      "outputs": [
        {
          "output_type": "stream",
          "text": [
            "Go to this URL in a browser: https://accounts.google.com/o/oauth2/auth?client_id=947318989803-6bn6qk8qdgf4n4g3pfee6491hc0brc4i.apps.googleusercontent.com&redirect_uri=urn%3aietf%3awg%3aoauth%3a2.0%3aoob&response_type=code&scope=email%20https%3a%2f%2fwww.googleapis.com%2fauth%2fdocs.test%20https%3a%2f%2fwww.googleapis.com%2fauth%2fdrive%20https%3a%2f%2fwww.googleapis.com%2fauth%2fdrive.photos.readonly%20https%3a%2f%2fwww.googleapis.com%2fauth%2fpeopleapi.readonly\n",
            "\n",
            "Enter your authorization code:\n",
            "··········\n",
            "Mounted at /content/drive/\n"
          ],
          "name": "stdout"
        }
      ]
    },
    {
      "cell_type": "code",
      "metadata": {
        "id": "bp4uR31fBdgz",
        "colab_type": "code",
        "colab": {}
      },
      "source": [
        "project_path = '/content/drive/My Drive/GL/Capstone_Project/'"
      ],
      "execution_count": 2,
      "outputs": []
    },
    {
      "cell_type": "code",
      "metadata": {
        "id": "6k-MwzhPCPuu",
        "colab_type": "code",
        "colab": {}
      },
      "source": [
        "import numpy as np\n",
        "import pandas as pd"
      ],
      "execution_count": 3,
      "outputs": []
    },
    {
      "cell_type": "code",
      "metadata": {
        "id": "RHOj1Hp5CcjX",
        "colab_type": "code",
        "colab": {}
      },
      "source": [
        "data = pd.read_excel(project_path+'input_data - Copy.xlsx')"
      ],
      "execution_count": 4,
      "outputs": []
    },
    {
      "cell_type": "code",
      "metadata": {
        "id": "xHQGtiODDDtb",
        "colab_type": "code",
        "colab": {
          "base_uri": "https://localhost:8080/",
          "height": 204
        },
        "outputId": "ab1dfd83-8784-4228-e4e2-273ac61cea7f"
      },
      "source": [
        "data.head()"
      ],
      "execution_count": 5,
      "outputs": [
        {
          "output_type": "execute_result",
          "data": {
            "text/html": [
              "<div>\n",
              "<style scoped>\n",
              "    .dataframe tbody tr th:only-of-type {\n",
              "        vertical-align: middle;\n",
              "    }\n",
              "\n",
              "    .dataframe tbody tr th {\n",
              "        vertical-align: top;\n",
              "    }\n",
              "\n",
              "    .dataframe thead th {\n",
              "        text-align: right;\n",
              "    }\n",
              "</style>\n",
              "<table border=\"1\" class=\"dataframe\">\n",
              "  <thead>\n",
              "    <tr style=\"text-align: right;\">\n",
              "      <th></th>\n",
              "      <th>Short description</th>\n",
              "      <th>Description</th>\n",
              "      <th>Caller</th>\n",
              "      <th>Assignment group</th>\n",
              "    </tr>\n",
              "  </thead>\n",
              "  <tbody>\n",
              "    <tr>\n",
              "      <th>0</th>\n",
              "      <td>login issue</td>\n",
              "      <td>-verified user details.(employee# &amp; manager na...</td>\n",
              "      <td>spxjnwir pjlcoqds</td>\n",
              "      <td>GRP_0</td>\n",
              "    </tr>\n",
              "    <tr>\n",
              "      <th>1</th>\n",
              "      <td>outlook</td>\n",
              "      <td>\\r\\n\\r\\nreceived from: hmjdrvpb.komuaywn@gmail...</td>\n",
              "      <td>hmjdrvpb komuaywn</td>\n",
              "      <td>GRP_0</td>\n",
              "    </tr>\n",
              "    <tr>\n",
              "      <th>2</th>\n",
              "      <td>cant log in to vpn</td>\n",
              "      <td>\\r\\n\\r\\nreceived from: eylqgodm.ybqkwiam@gmail...</td>\n",
              "      <td>eylqgodm ybqkwiam</td>\n",
              "      <td>GRP_0</td>\n",
              "    </tr>\n",
              "    <tr>\n",
              "      <th>3</th>\n",
              "      <td>unable to access hr_tool page</td>\n",
              "      <td>unable to access hr_tool page</td>\n",
              "      <td>xbkucsvz gcpydteq</td>\n",
              "      <td>GRP_0</td>\n",
              "    </tr>\n",
              "    <tr>\n",
              "      <th>4</th>\n",
              "      <td>skype error</td>\n",
              "      <td>skype error</td>\n",
              "      <td>owlgqjme qhcozdfx</td>\n",
              "      <td>GRP_0</td>\n",
              "    </tr>\n",
              "  </tbody>\n",
              "</table>\n",
              "</div>"
            ],
            "text/plain": [
              "               Short description  ... Assignment group\n",
              "0                    login issue  ...            GRP_0\n",
              "1                        outlook  ...            GRP_0\n",
              "2             cant log in to vpn  ...            GRP_0\n",
              "3  unable to access hr_tool page  ...            GRP_0\n",
              "4                   skype error   ...            GRP_0\n",
              "\n",
              "[5 rows x 4 columns]"
            ]
          },
          "metadata": {
            "tags": []
          },
          "execution_count": 5
        }
      ]
    },
    {
      "cell_type": "code",
      "metadata": {
        "id": "lLodUn65EvYO",
        "colab_type": "code",
        "colab": {
          "base_uri": "https://localhost:8080/",
          "height": 34
        },
        "outputId": "1ec9f15f-6f52-4e45-deac-b8a1e9e2bd8a"
      },
      "source": [
        "data.shape"
      ],
      "execution_count": 6,
      "outputs": [
        {
          "output_type": "execute_result",
          "data": {
            "text/plain": [
              "(8500, 4)"
            ]
          },
          "metadata": {
            "tags": []
          },
          "execution_count": 6
        }
      ]
    },
    {
      "cell_type": "code",
      "metadata": {
        "id": "nQpg4vQDDGka",
        "colab_type": "code",
        "colab": {
          "base_uri": "https://localhost:8080/",
          "height": 102
        },
        "outputId": "d18ff4d3-60a1-4e3d-9c21-179f7860744a"
      },
      "source": [
        "data.isna().sum()"
      ],
      "execution_count": 7,
      "outputs": [
        {
          "output_type": "execute_result",
          "data": {
            "text/plain": [
              "Short description    8\n",
              "Description          1\n",
              "Caller               0\n",
              "Assignment group     0\n",
              "dtype: int64"
            ]
          },
          "metadata": {
            "tags": []
          },
          "execution_count": 7
        }
      ]
    },
    {
      "cell_type": "code",
      "metadata": {
        "id": "-IVGnEs2DNYM",
        "colab_type": "code",
        "colab": {
          "base_uri": "https://localhost:8080/",
          "height": 297
        },
        "outputId": "b8b99a93-8522-4c22-dd62-faf91936e758"
      },
      "source": [
        "data[data['Short description'].isna()==True]"
      ],
      "execution_count": 8,
      "outputs": [
        {
          "output_type": "execute_result",
          "data": {
            "text/html": [
              "<div>\n",
              "<style scoped>\n",
              "    .dataframe tbody tr th:only-of-type {\n",
              "        vertical-align: middle;\n",
              "    }\n",
              "\n",
              "    .dataframe tbody tr th {\n",
              "        vertical-align: top;\n",
              "    }\n",
              "\n",
              "    .dataframe thead th {\n",
              "        text-align: right;\n",
              "    }\n",
              "</style>\n",
              "<table border=\"1\" class=\"dataframe\">\n",
              "  <thead>\n",
              "    <tr style=\"text-align: right;\">\n",
              "      <th></th>\n",
              "      <th>Short description</th>\n",
              "      <th>Description</th>\n",
              "      <th>Caller</th>\n",
              "      <th>Assignment group</th>\n",
              "    </tr>\n",
              "  </thead>\n",
              "  <tbody>\n",
              "    <tr>\n",
              "      <th>2604</th>\n",
              "      <td>NaN</td>\n",
              "      <td>\\r\\n\\r\\nreceived from: ohdrnswl.rezuibdt@gmail...</td>\n",
              "      <td>ohdrnswl rezuibdt</td>\n",
              "      <td>GRP_34</td>\n",
              "    </tr>\n",
              "    <tr>\n",
              "      <th>3383</th>\n",
              "      <td>NaN</td>\n",
              "      <td>\\r\\n-connected to the user system using teamvi...</td>\n",
              "      <td>qftpazns fxpnytmk</td>\n",
              "      <td>GRP_0</td>\n",
              "    </tr>\n",
              "    <tr>\n",
              "      <th>3906</th>\n",
              "      <td>NaN</td>\n",
              "      <td>-user unable  tologin to vpn.\\r\\n-connected to...</td>\n",
              "      <td>awpcmsey ctdiuqwe</td>\n",
              "      <td>GRP_0</td>\n",
              "    </tr>\n",
              "    <tr>\n",
              "      <th>3910</th>\n",
              "      <td>NaN</td>\n",
              "      <td>-user unable  tologin to vpn.\\r\\n-connected to...</td>\n",
              "      <td>rhwsmefo tvphyura</td>\n",
              "      <td>GRP_0</td>\n",
              "    </tr>\n",
              "    <tr>\n",
              "      <th>3915</th>\n",
              "      <td>NaN</td>\n",
              "      <td>-user unable  tologin to vpn.\\r\\n-connected to...</td>\n",
              "      <td>hxripljo efzounig</td>\n",
              "      <td>GRP_0</td>\n",
              "    </tr>\n",
              "    <tr>\n",
              "      <th>3921</th>\n",
              "      <td>NaN</td>\n",
              "      <td>-user unable  tologin to vpn.\\r\\n-connected to...</td>\n",
              "      <td>cziadygo veiosxby</td>\n",
              "      <td>GRP_0</td>\n",
              "    </tr>\n",
              "    <tr>\n",
              "      <th>3924</th>\n",
              "      <td>NaN</td>\n",
              "      <td>name:wvqgbdhm fwchqjor\\nlanguage:\\nbrowser:mic...</td>\n",
              "      <td>wvqgbdhm fwchqjor</td>\n",
              "      <td>GRP_0</td>\n",
              "    </tr>\n",
              "    <tr>\n",
              "      <th>4341</th>\n",
              "      <td>NaN</td>\n",
              "      <td>\\r\\n\\r\\nreceived from: eqmuniov.ehxkcbgj@gmail...</td>\n",
              "      <td>eqmuniov ehxkcbgj</td>\n",
              "      <td>GRP_0</td>\n",
              "    </tr>\n",
              "  </tbody>\n",
              "</table>\n",
              "</div>"
            ],
            "text/plain": [
              "     Short description  ... Assignment group\n",
              "2604               NaN  ...           GRP_34\n",
              "3383               NaN  ...            GRP_0\n",
              "3906               NaN  ...            GRP_0\n",
              "3910               NaN  ...            GRP_0\n",
              "3915               NaN  ...            GRP_0\n",
              "3921               NaN  ...            GRP_0\n",
              "3924               NaN  ...            GRP_0\n",
              "4341               NaN  ...            GRP_0\n",
              "\n",
              "[8 rows x 4 columns]"
            ]
          },
          "metadata": {
            "tags": []
          },
          "execution_count": 8
        }
      ]
    },
    {
      "cell_type": "code",
      "metadata": {
        "id": "2FmPe72hDrQJ",
        "colab_type": "code",
        "colab": {
          "base_uri": "https://localhost:8080/",
          "height": 80
        },
        "outputId": "fef4857e-4ed1-4133-da9c-a47e1c8d5b5d"
      },
      "source": [
        "data[data['Description'].isna()==True]"
      ],
      "execution_count": 9,
      "outputs": [
        {
          "output_type": "execute_result",
          "data": {
            "text/html": [
              "<div>\n",
              "<style scoped>\n",
              "    .dataframe tbody tr th:only-of-type {\n",
              "        vertical-align: middle;\n",
              "    }\n",
              "\n",
              "    .dataframe tbody tr th {\n",
              "        vertical-align: top;\n",
              "    }\n",
              "\n",
              "    .dataframe thead th {\n",
              "        text-align: right;\n",
              "    }\n",
              "</style>\n",
              "<table border=\"1\" class=\"dataframe\">\n",
              "  <thead>\n",
              "    <tr style=\"text-align: right;\">\n",
              "      <th></th>\n",
              "      <th>Short description</th>\n",
              "      <th>Description</th>\n",
              "      <th>Caller</th>\n",
              "      <th>Assignment group</th>\n",
              "    </tr>\n",
              "  </thead>\n",
              "  <tbody>\n",
              "    <tr>\n",
              "      <th>4395</th>\n",
              "      <td>i am locked out of skype</td>\n",
              "      <td>NaN</td>\n",
              "      <td>viyglzfo ajtfzpkb</td>\n",
              "      <td>GRP_0</td>\n",
              "    </tr>\n",
              "  </tbody>\n",
              "</table>\n",
              "</div>"
            ],
            "text/plain": [
              "             Short description Description             Caller Assignment group\n",
              "4395  i am locked out of skype         NaN  viyglzfo ajtfzpkb            GRP_0"
            ]
          },
          "metadata": {
            "tags": []
          },
          "execution_count": 9
        }
      ]
    },
    {
      "cell_type": "code",
      "metadata": {
        "id": "qks7XJKNjqpl",
        "colab_type": "code",
        "colab": {}
      },
      "source": [
        "data = data.fillna(value=' ')"
      ],
      "execution_count": 10,
      "outputs": []
    },
    {
      "cell_type": "code",
      "metadata": {
        "id": "UqYHJ_M1keFZ",
        "colab_type": "code",
        "colab": {
          "base_uri": "https://localhost:8080/",
          "height": 102
        },
        "outputId": "dd275869-6863-4aef-d33e-56cf67906dcf"
      },
      "source": [
        "\n",
        "data.isna().sum()"
      ],
      "execution_count": 11,
      "outputs": [
        {
          "output_type": "execute_result",
          "data": {
            "text/plain": [
              "Short description    0\n",
              "Description          0\n",
              "Caller               0\n",
              "Assignment group     0\n",
              "dtype: int64"
            ]
          },
          "metadata": {
            "tags": []
          },
          "execution_count": 11
        }
      ]
    },
    {
      "cell_type": "code",
      "metadata": {
        "id": "TiI20W4wlb1V",
        "colab_type": "code",
        "colab": {}
      },
      "source": [
        "data['final_description'] = data['Description']"
      ],
      "execution_count": 12,
      "outputs": []
    },
    {
      "cell_type": "code",
      "metadata": {
        "id": "TYMLeQlRljOW",
        "colab_type": "code",
        "colab": {
          "base_uri": "https://localhost:8080/",
          "height": 204
        },
        "outputId": "5ef8568b-2439-4bdf-af6f-6bf5f91f13af"
      },
      "source": [
        "data.head()"
      ],
      "execution_count": 13,
      "outputs": [
        {
          "output_type": "execute_result",
          "data": {
            "text/html": [
              "<div>\n",
              "<style scoped>\n",
              "    .dataframe tbody tr th:only-of-type {\n",
              "        vertical-align: middle;\n",
              "    }\n",
              "\n",
              "    .dataframe tbody tr th {\n",
              "        vertical-align: top;\n",
              "    }\n",
              "\n",
              "    .dataframe thead th {\n",
              "        text-align: right;\n",
              "    }\n",
              "</style>\n",
              "<table border=\"1\" class=\"dataframe\">\n",
              "  <thead>\n",
              "    <tr style=\"text-align: right;\">\n",
              "      <th></th>\n",
              "      <th>Short description</th>\n",
              "      <th>Description</th>\n",
              "      <th>Caller</th>\n",
              "      <th>Assignment group</th>\n",
              "      <th>final_description</th>\n",
              "    </tr>\n",
              "  </thead>\n",
              "  <tbody>\n",
              "    <tr>\n",
              "      <th>0</th>\n",
              "      <td>login issue</td>\n",
              "      <td>-verified user details.(employee# &amp; manager na...</td>\n",
              "      <td>spxjnwir pjlcoqds</td>\n",
              "      <td>GRP_0</td>\n",
              "      <td>-verified user details.(employee# &amp; manager na...</td>\n",
              "    </tr>\n",
              "    <tr>\n",
              "      <th>1</th>\n",
              "      <td>outlook</td>\n",
              "      <td>\\r\\n\\r\\nreceived from: hmjdrvpb.komuaywn@gmail...</td>\n",
              "      <td>hmjdrvpb komuaywn</td>\n",
              "      <td>GRP_0</td>\n",
              "      <td>\\r\\n\\r\\nreceived from: hmjdrvpb.komuaywn@gmail...</td>\n",
              "    </tr>\n",
              "    <tr>\n",
              "      <th>2</th>\n",
              "      <td>cant log in to vpn</td>\n",
              "      <td>\\r\\n\\r\\nreceived from: eylqgodm.ybqkwiam@gmail...</td>\n",
              "      <td>eylqgodm ybqkwiam</td>\n",
              "      <td>GRP_0</td>\n",
              "      <td>\\r\\n\\r\\nreceived from: eylqgodm.ybqkwiam@gmail...</td>\n",
              "    </tr>\n",
              "    <tr>\n",
              "      <th>3</th>\n",
              "      <td>unable to access hr_tool page</td>\n",
              "      <td>unable to access hr_tool page</td>\n",
              "      <td>xbkucsvz gcpydteq</td>\n",
              "      <td>GRP_0</td>\n",
              "      <td>unable to access hr_tool page</td>\n",
              "    </tr>\n",
              "    <tr>\n",
              "      <th>4</th>\n",
              "      <td>skype error</td>\n",
              "      <td>skype error</td>\n",
              "      <td>owlgqjme qhcozdfx</td>\n",
              "      <td>GRP_0</td>\n",
              "      <td>skype error</td>\n",
              "    </tr>\n",
              "  </tbody>\n",
              "</table>\n",
              "</div>"
            ],
            "text/plain": [
              "               Short description  ...                                  final_description\n",
              "0                    login issue  ...  -verified user details.(employee# & manager na...\n",
              "1                        outlook  ...  \\r\\n\\r\\nreceived from: hmjdrvpb.komuaywn@gmail...\n",
              "2             cant log in to vpn  ...  \\r\\n\\r\\nreceived from: eylqgodm.ybqkwiam@gmail...\n",
              "3  unable to access hr_tool page  ...                      unable to access hr_tool page\n",
              "4                   skype error   ...                                       skype error \n",
              "\n",
              "[5 rows x 5 columns]"
            ]
          },
          "metadata": {
            "tags": []
          },
          "execution_count": 13
        }
      ]
    },
    {
      "cell_type": "code",
      "metadata": {
        "id": "i7yubXzvkoYd",
        "colab_type": "code",
        "colab": {}
      },
      "source": [
        "for i in range(data.shape[0]):\n",
        "  if data['Short description'][i] == data['Description'][i]:\n",
        "    data['final_description'][i] = data['Description'][i]\n",
        "  else:\n",
        "    data['final_description'][i] = data['Short description'][i] + ' ' + data['Description'][i]"
      ],
      "execution_count": 14,
      "outputs": []
    },
    {
      "cell_type": "code",
      "metadata": {
        "id": "CjTqpy5HmR0c",
        "colab_type": "code",
        "colab": {
          "base_uri": "https://localhost:8080/",
          "height": 204
        },
        "outputId": "5a4dea3c-0059-4d7f-b128-b5ea1271287c"
      },
      "source": [
        "data.head()"
      ],
      "execution_count": 15,
      "outputs": [
        {
          "output_type": "execute_result",
          "data": {
            "text/html": [
              "<div>\n",
              "<style scoped>\n",
              "    .dataframe tbody tr th:only-of-type {\n",
              "        vertical-align: middle;\n",
              "    }\n",
              "\n",
              "    .dataframe tbody tr th {\n",
              "        vertical-align: top;\n",
              "    }\n",
              "\n",
              "    .dataframe thead th {\n",
              "        text-align: right;\n",
              "    }\n",
              "</style>\n",
              "<table border=\"1\" class=\"dataframe\">\n",
              "  <thead>\n",
              "    <tr style=\"text-align: right;\">\n",
              "      <th></th>\n",
              "      <th>Short description</th>\n",
              "      <th>Description</th>\n",
              "      <th>Caller</th>\n",
              "      <th>Assignment group</th>\n",
              "      <th>final_description</th>\n",
              "    </tr>\n",
              "  </thead>\n",
              "  <tbody>\n",
              "    <tr>\n",
              "      <th>0</th>\n",
              "      <td>login issue</td>\n",
              "      <td>-verified user details.(employee# &amp; manager na...</td>\n",
              "      <td>spxjnwir pjlcoqds</td>\n",
              "      <td>GRP_0</td>\n",
              "      <td>login issue -verified user details.(employee# ...</td>\n",
              "    </tr>\n",
              "    <tr>\n",
              "      <th>1</th>\n",
              "      <td>outlook</td>\n",
              "      <td>\\r\\n\\r\\nreceived from: hmjdrvpb.komuaywn@gmail...</td>\n",
              "      <td>hmjdrvpb komuaywn</td>\n",
              "      <td>GRP_0</td>\n",
              "      <td>outlook \\r\\n\\r\\nreceived from: hmjdrvpb.komuay...</td>\n",
              "    </tr>\n",
              "    <tr>\n",
              "      <th>2</th>\n",
              "      <td>cant log in to vpn</td>\n",
              "      <td>\\r\\n\\r\\nreceived from: eylqgodm.ybqkwiam@gmail...</td>\n",
              "      <td>eylqgodm ybqkwiam</td>\n",
              "      <td>GRP_0</td>\n",
              "      <td>cant log in to vpn \\r\\n\\r\\nreceived from: eylq...</td>\n",
              "    </tr>\n",
              "    <tr>\n",
              "      <th>3</th>\n",
              "      <td>unable to access hr_tool page</td>\n",
              "      <td>unable to access hr_tool page</td>\n",
              "      <td>xbkucsvz gcpydteq</td>\n",
              "      <td>GRP_0</td>\n",
              "      <td>unable to access hr_tool page</td>\n",
              "    </tr>\n",
              "    <tr>\n",
              "      <th>4</th>\n",
              "      <td>skype error</td>\n",
              "      <td>skype error</td>\n",
              "      <td>owlgqjme qhcozdfx</td>\n",
              "      <td>GRP_0</td>\n",
              "      <td>skype error</td>\n",
              "    </tr>\n",
              "  </tbody>\n",
              "</table>\n",
              "</div>"
            ],
            "text/plain": [
              "               Short description  ...                                  final_description\n",
              "0                    login issue  ...  login issue -verified user details.(employee# ...\n",
              "1                        outlook  ...  outlook \\r\\n\\r\\nreceived from: hmjdrvpb.komuay...\n",
              "2             cant log in to vpn  ...  cant log in to vpn \\r\\n\\r\\nreceived from: eylq...\n",
              "3  unable to access hr_tool page  ...                      unable to access hr_tool page\n",
              "4                   skype error   ...                                       skype error \n",
              "\n",
              "[5 rows x 5 columns]"
            ]
          },
          "metadata": {
            "tags": []
          },
          "execution_count": 15
        }
      ]
    },
    {
      "cell_type": "code",
      "metadata": {
        "id": "aAIbyHh6ElCW",
        "colab_type": "code",
        "colab": {
          "base_uri": "https://localhost:8080/",
          "height": 221
        },
        "outputId": "5096bb15-6490-49b9-d871-da59ad005463"
      },
      "source": [
        "data['Assignment group'].value_counts()"
      ],
      "execution_count": 16,
      "outputs": [
        {
          "output_type": "execute_result",
          "data": {
            "text/plain": [
              "GRP_0     3976\n",
              "GRP_8      661\n",
              "GRP_24     289\n",
              "GRP_12     257\n",
              "GRP_9      252\n",
              "          ... \n",
              "GRP_64       1\n",
              "GRP_35       1\n",
              "GRP_67       1\n",
              "GRP_73       1\n",
              "GRP_61       1\n",
              "Name: Assignment group, Length: 74, dtype: int64"
            ]
          },
          "metadata": {
            "tags": []
          },
          "execution_count": 16
        }
      ]
    },
    {
      "cell_type": "code",
      "metadata": {
        "id": "v6X2wz2sE_c3",
        "colab_type": "code",
        "colab": {
          "base_uri": "https://localhost:8080/",
          "height": 51
        },
        "outputId": "d700a947-fab7-4d97-e517-981b4a5e6b87"
      },
      "source": [
        "import seaborn as sns\n",
        "import matplotlib.pyplot as plt"
      ],
      "execution_count": 17,
      "outputs": [
        {
          "output_type": "stream",
          "text": [
            "/usr/local/lib/python3.6/dist-packages/statsmodels/tools/_testing.py:19: FutureWarning: pandas.util.testing is deprecated. Use the functions in the public API at pandas.testing instead.\n",
            "  import pandas.util.testing as tm\n"
          ],
          "name": "stderr"
        }
      ]
    },
    {
      "cell_type": "code",
      "metadata": {
        "id": "1gGrDlwTFPzI",
        "colab_type": "code",
        "colab": {
          "base_uri": "https://localhost:8080/",
          "height": 369
        },
        "outputId": "dd54292a-769a-457a-bb28-551a31025362"
      },
      "source": [
        "descending_order = data['Assignment group'].value_counts().sort_values(ascending=False).index\n",
        "plt.subplots(figsize=(22,5))\n",
        "ax=sns.countplot(x='Assignment group', data=data)\n",
        "ax.set_xticklabels(ax.get_xticklabels(), rotation=45, ha=\"right\")\n",
        "plt.tight_layout()\n",
        "plt.show()"
      ],
      "execution_count": 18,
      "outputs": [
        {
          "output_type": "display_data",
          "data": {
            "image/png": "[encoded data removed]",
            "text/plain": [
              "<Figure size 1584x360 with 1 Axes>"
            ]
          },
          "metadata": {
            "tags": [],
            "needs_background": "light"
          }
        }
      ]
    },
    {
      "cell_type": "code",
      "metadata": {
        "id": "Wecg_PfW17eq",
        "colab_type": "code",
        "colab": {
          "base_uri": "https://localhost:8080/",
          "height": 119
        },
        "outputId": "2d58a234-3ca4-4d78-ba54-fb3f9b9e7769"
      },
      "source": [
        "data.dtypes"
      ],
      "execution_count": 19,
      "outputs": [
        {
          "output_type": "execute_result",
          "data": {
            "text/plain": [
              "Short description    object\n",
              "Description          object\n",
              "Caller               object\n",
              "Assignment group     object\n",
              "final_description    object\n",
              "dtype: object"
            ]
          },
          "metadata": {
            "tags": []
          },
          "execution_count": 19
        }
      ]
    },
    {
      "cell_type": "code",
      "metadata": {
        "id": "EqvBR-eO6muf",
        "colab_type": "code",
        "colab": {
          "base_uri": "https://localhost:8080/",
          "height": 238
        },
        "outputId": "8a51fc24-2284-4adf-d3ec-25da4bde3733"
      },
      "source": [
        "data_grouped = data.groupby(['Assignment group'])\n",
        "unique_group = data['Assignment group'].unique()\n",
        "unique_group"
      ],
      "execution_count": 20,
      "outputs": [
        {
          "output_type": "execute_result",
          "data": {
            "text/plain": [
              "array(['GRP_0', 'GRP_1', 'GRP_3', 'GRP_4', 'GRP_5', 'GRP_6', 'GRP_7',\n",
              "       'GRP_8', 'GRP_9', 'GRP_10', 'GRP_11', 'GRP_12', 'GRP_13', 'GRP_14',\n",
              "       'GRP_15', 'GRP_16', 'GRP_17', 'GRP_18', 'GRP_19', 'GRP_2',\n",
              "       'GRP_20', 'GRP_21', 'GRP_22', 'GRP_23', 'GRP_24', 'GRP_25',\n",
              "       'GRP_26', 'GRP_27', 'GRP_28', 'GRP_29', 'GRP_30', 'GRP_31',\n",
              "       'GRP_33', 'GRP_34', 'GRP_35', 'GRP_36', 'GRP_37', 'GRP_38',\n",
              "       'GRP_39', 'GRP_40', 'GRP_41', 'GRP_42', 'GRP_43', 'GRP_44',\n",
              "       'GRP_45', 'GRP_46', 'GRP_47', 'GRP_48', 'GRP_49', 'GRP_50',\n",
              "       'GRP_51', 'GRP_52', 'GRP_53', 'GRP_54', 'GRP_55', 'GRP_56',\n",
              "       'GRP_57', 'GRP_58', 'GRP_59', 'GRP_60', 'GRP_61', 'GRP_32',\n",
              "       'GRP_62', 'GRP_63', 'GRP_64', 'GRP_65', 'GRP_66', 'GRP_67',\n",
              "       'GRP_68', 'GRP_69', 'GRP_70', 'GRP_71', 'GRP_72', 'GRP_73'],\n",
              "      dtype=object)"
            ]
          },
          "metadata": {
            "tags": []
          },
          "execution_count": 20
        }
      ]
    },
    {
      "cell_type": "code",
      "metadata": {
        "id": "yEdj0iPfBVKX",
        "colab_type": "code",
        "colab": {
          "base_uri": "https://localhost:8080/",
          "height": 1000
        },
        "outputId": "792a7653-a18c-47cc-c7b3-d7e1234df1e1"
      },
      "source": [
        "group_count = {}\n",
        "for group in unique_group:\n",
        "  count = data[data['Assignment group']==group].shape[0]\n",
        "  group_count[group] = count\n",
        "group_count"
      ],
      "execution_count": 21,
      "outputs": [
        {
          "output_type": "execute_result",
          "data": {
            "text/plain": [
              "{'GRP_0': 3976,\n",
              " 'GRP_1': 31,\n",
              " 'GRP_10': 140,\n",
              " 'GRP_11': 30,\n",
              " 'GRP_12': 257,\n",
              " 'GRP_13': 145,\n",
              " 'GRP_14': 118,\n",
              " 'GRP_15': 39,\n",
              " 'GRP_16': 85,\n",
              " 'GRP_17': 81,\n",
              " 'GRP_18': 88,\n",
              " 'GRP_19': 215,\n",
              " 'GRP_2': 241,\n",
              " 'GRP_20': 36,\n",
              " 'GRP_21': 29,\n",
              " 'GRP_22': 31,\n",
              " 'GRP_23': 25,\n",
              " 'GRP_24': 289,\n",
              " 'GRP_25': 116,\n",
              " 'GRP_26': 56,\n",
              " 'GRP_27': 18,\n",
              " 'GRP_28': 44,\n",
              " 'GRP_29': 97,\n",
              " 'GRP_3': 200,\n",
              " 'GRP_30': 39,\n",
              " 'GRP_31': 69,\n",
              " 'GRP_32': 4,\n",
              " 'GRP_33': 107,\n",
              " 'GRP_34': 62,\n",
              " 'GRP_35': 1,\n",
              " 'GRP_36': 15,\n",
              " 'GRP_37': 16,\n",
              " 'GRP_38': 3,\n",
              " 'GRP_39': 19,\n",
              " 'GRP_4': 100,\n",
              " 'GRP_40': 45,\n",
              " 'GRP_41': 40,\n",
              " 'GRP_42': 37,\n",
              " 'GRP_43': 5,\n",
              " 'GRP_44': 15,\n",
              " 'GRP_45': 35,\n",
              " 'GRP_46': 6,\n",
              " 'GRP_47': 27,\n",
              " 'GRP_48': 25,\n",
              " 'GRP_49': 6,\n",
              " 'GRP_5': 129,\n",
              " 'GRP_50': 14,\n",
              " 'GRP_51': 8,\n",
              " 'GRP_52': 9,\n",
              " 'GRP_53': 11,\n",
              " 'GRP_54': 2,\n",
              " 'GRP_55': 8,\n",
              " 'GRP_56': 3,\n",
              " 'GRP_57': 2,\n",
              " 'GRP_58': 3,\n",
              " 'GRP_59': 6,\n",
              " 'GRP_6': 184,\n",
              " 'GRP_60': 20,\n",
              " 'GRP_61': 1,\n",
              " 'GRP_62': 25,\n",
              " 'GRP_63': 3,\n",
              " 'GRP_64': 1,\n",
              " 'GRP_65': 11,\n",
              " 'GRP_66': 4,\n",
              " 'GRP_67': 1,\n",
              " 'GRP_68': 3,\n",
              " 'GRP_69': 2,\n",
              " 'GRP_7': 68,\n",
              " 'GRP_70': 1,\n",
              " 'GRP_71': 2,\n",
              " 'GRP_72': 2,\n",
              " 'GRP_73': 1,\n",
              " 'GRP_8': 661,\n",
              " 'GRP_9': 252}"
            ]
          },
          "metadata": {
            "tags": []
          },
          "execution_count": 21
        }
      ]
    },
    {
      "cell_type": "code",
      "metadata": {
        "id": "D_i04RlPA7K7",
        "colab_type": "code",
        "colab": {
          "base_uri": "https://localhost:8080/",
          "height": 323
        },
        "outputId": "adf952d0-abd8-4786-9df2-01ce29d6c0f4"
      },
      "source": [
        "smaller_group = []\n",
        "for group in unique_group:\n",
        "  count = data[data['Assignment group']==group].shape[0]\n",
        "  if count<5:\n",
        "    smaller_group.append(group)\n",
        "    print('%s count is %d' %(group,count))"
      ],
      "execution_count": 22,
      "outputs": [
        {
          "output_type": "stream",
          "text": [
            "GRP_35 count is 1\n",
            "GRP_38 count is 3\n",
            "GRP_54 count is 2\n",
            "GRP_56 count is 3\n",
            "GRP_57 count is 2\n",
            "GRP_58 count is 3\n",
            "GRP_61 count is 1\n",
            "GRP_32 count is 4\n",
            "GRP_63 count is 3\n",
            "GRP_64 count is 1\n",
            "GRP_66 count is 4\n",
            "GRP_67 count is 1\n",
            "GRP_68 count is 3\n",
            "GRP_69 count is 2\n",
            "GRP_70 count is 1\n",
            "GRP_71 count is 2\n",
            "GRP_72 count is 2\n",
            "GRP_73 count is 1\n"
          ],
          "name": "stdout"
        }
      ]
    },
    {
      "cell_type": "code",
      "metadata": {
        "id": "pvzo1Kh0FLfo",
        "colab_type": "code",
        "colab": {
          "base_uri": "https://localhost:8080/",
          "height": 34
        },
        "outputId": "57ae576c-1f99-4fcb-8cec-d2bf84166a82"
      },
      "source": [
        "len(smaller_group)"
      ],
      "execution_count": 23,
      "outputs": [
        {
          "output_type": "execute_result",
          "data": {
            "text/plain": [
              "18"
            ]
          },
          "metadata": {
            "tags": []
          },
          "execution_count": 23
        }
      ]
    },
    {
      "cell_type": "code",
      "metadata": {
        "id": "DAQT2H01et7l",
        "colab_type": "code",
        "colab": {
          "base_uri": "https://localhost:8080/",
          "height": 85
        },
        "outputId": "da8d0059-721c-4102-c8e5-6aee65dd32e4"
      },
      "source": [
        "print(data[data['Assignment group']=='GRP_38']['final_description'])"
      ],
      "execution_count": 24,
      "outputs": [
        {
          "output_type": "stream",
          "text": [
            "461     hpqc delivers error message: \"user is not main...\n",
            "4362    delete the charm 8111117934,  since it is no l...\n",
            "6793    delete the charm- 7000006672 delete the charm ...\n",
            "Name: final_description, dtype: object\n"
          ],
          "name": "stdout"
        }
      ]
    },
    {
      "cell_type": "code",
      "metadata": {
        "id": "J_6KRM6Gd1wp",
        "colab_type": "code",
        "colab": {
          "base_uri": "https://localhost:8080/",
          "height": 1000
        },
        "outputId": "ab5c1576-a788-43e4-ddb2-ca81ecaaa883"
      },
      "source": [
        "for grp in smaller_group:\n",
        "  print('Final_description of %s:' %(grp))\n",
        "  print(data[data['Assignment group']==grp]['final_description'])\n",
        "  "
      ],
      "execution_count": 25,
      "outputs": [
        {
          "output_type": "stream",
          "text": [
            "Final_description of GRP_35:\n",
            "401    need access to erp kp06789 need access to kp06...\n",
            "Name: final_description, dtype: object\n",
            "Final_description of GRP_38:\n",
            "461     hpqc delivers error message: \"user is not main...\n",
            "4362    delete the charm 8111117934,  since it is no l...\n",
            "6793    delete the charm- 7000006672 delete the charm ...\n",
            "Name: final_description, dtype: object\n",
            "Final_description of GRP_54:\n",
            "1637    receiving product in logical warehouse (plant_...\n",
            "2983    question  -  who is taking care on report zzsd...\n",
            "Name: final_description, dtype: object\n",
            "Final_description of GRP_56:\n",
            "1757    please provide ip for our 5 users å‘ä»¶äºº: w...\n",
            "3097    security incidents - ( #in33976733) : suspicio...\n",
            "7975    the snmp agent at '10.32.1.11' is not respondi...\n",
            "Name: final_description, dtype: object\n",
            "Final_description of GRP_57:\n",
            "1886    i cannot access the dob report.  i was able to...\n",
            "6839    job Job_1148 failed in job_scheduler at: 08/22...\n",
            "Name: final_description, dtype: object\n",
            "Final_description of GRP_58:\n",
            "2097    dba team the imwveudk mykcourx processor has s...\n",
            "5248    job que processor for engg database stopped, p...\n",
            "8171    job qeue from the engg application stopped the...\n",
            "Name: final_description, dtype: object\n",
            "Final_description of GRP_61:\n",
            "3036    (srvlavpwdrprd01.company.company.com) is not r...\n",
            "Name: final_description, dtype: object\n",
            "Final_description of GRP_32:\n",
            "3041    client 0819 company, inc / rejected edi inware...\n",
            "6789    edi bestellungen der ksb ag sehr geehrte damen...\n",
            "8097    aw: [ticket#2016080878000153] wg: po#450561244...\n",
            "8103    wg: [ticket#2016080878000153] wg: po#450561244...\n",
            "Name: final_description, dtype: object\n",
            "Final_description of GRP_63:\n",
            "3509    unable to install crm app on galaxy s3  user h...\n",
            "4428    mobile phone no e-mail receipt for user jkuasl...\n",
            "6302            cannot make or recieve calls on iphone 5.\n",
            "Name: final_description, dtype: object\n",
            "Final_description of GRP_64:\n",
            "3628    r: ticket_no1402627 change in report zsdslsum ...\n",
            "Name: final_description, dtype: object\n",
            "Final_description of GRP_66:\n",
            "4698    tess application doesn't run good morning, whe...\n",
            "6496                                  installing cutview \n",
            "7698    update cutview to lauacyltoe hxgaycze version ...\n",
            "7701    update installation for cutview update cutview...\n",
            "Name: final_description, dtype: object\n",
            "Final_description of GRP_67:\n",
            "5154    unable to complete forecast unable to complete...\n",
            "Name: final_description, dtype: object\n",
            "Final_description of GRP_68:\n",
            "5767    expense report \\n\\nreceived from: ytqhfmwi.itn...\n",
            "5947    expense report not working when trying to crea...\n",
            "7479    expense report will not submit \\n\\nreceived fr...\n",
            "Name: final_description, dtype: object\n",
            "Final_description of GRP_69:\n",
            "5843    'repeat outbound connection for 135/tcp user i...\n",
            "7154    security incidents - ( #in33417637 ) : repeat ...\n",
            "Name: final_description, dtype: object\n",
            "Final_description of GRP_70:\n",
            "6401    a link on an e-mail says i am \"forbidden\" an e...\n",
            "Name: final_description, dtype: object\n",
            "Final_description of GRP_71:\n",
            "7597    na production files not received \\r\\n\\r\\nrecei...\n",
            "8099    emea files not processed as per schedule - che...\n",
            "Name: final_description, dtype: object\n",
            "Final_description of GRP_72:\n",
            "7828                                      account locked.\n",
            "8387    ticket (ticket_no1538972) update to anftgup nf...\n",
            "Name: final_description, dtype: object\n",
            "Final_description of GRP_73:\n",
            "8197    oneteam sso not working i'm unable to log in t...\n",
            "Name: final_description, dtype: object\n"
          ],
          "name": "stdout"
        }
      ]
    },
    {
      "cell_type": "code",
      "metadata": {
        "id": "7kKcQd5_nBiD",
        "colab_type": "code",
        "colab": {
          "base_uri": "https://localhost:8080/",
          "height": 204
        },
        "outputId": "deddb781-e4f4-4f81-8fc1-629d4a425834"
      },
      "source": [
        "data['len_final_Description'] = data['final_description'].apply(lambda x: len(x.split(\" \")))\n",
        "data.head()"
      ],
      "execution_count": 26,
      "outputs": [
        {
          "output_type": "execute_result",
          "data": {
            "text/html": [
              "<div>\n",
              "<style scoped>\n",
              "    .dataframe tbody tr th:only-of-type {\n",
              "        vertical-align: middle;\n",
              "    }\n",
              "\n",
              "    .dataframe tbody tr th {\n",
              "        vertical-align: top;\n",
              "    }\n",
              "\n",
              "    .dataframe thead th {\n",
              "        text-align: right;\n",
              "    }\n",
              "</style>\n",
              "<table border=\"1\" class=\"dataframe\">\n",
              "  <thead>\n",
              "    <tr style=\"text-align: right;\">\n",
              "      <th></th>\n",
              "      <th>Short description</th>\n",
              "      <th>Description</th>\n",
              "      <th>Caller</th>\n",
              "      <th>Assignment group</th>\n",
              "      <th>final_description</th>\n",
              "      <th>len_final_Description</th>\n",
              "    </tr>\n",
              "  </thead>\n",
              "  <tbody>\n",
              "    <tr>\n",
              "      <th>0</th>\n",
              "      <td>login issue</td>\n",
              "      <td>-verified user details.(employee# &amp; manager na...</td>\n",
              "      <td>spxjnwir pjlcoqds</td>\n",
              "      <td>GRP_0</td>\n",
              "      <td>login issue -verified user details.(employee# ...</td>\n",
              "      <td>31</td>\n",
              "    </tr>\n",
              "    <tr>\n",
              "      <th>1</th>\n",
              "      <td>outlook</td>\n",
              "      <td>\\r\\n\\r\\nreceived from: hmjdrvpb.komuaywn@gmail...</td>\n",
              "      <td>hmjdrvpb komuaywn</td>\n",
              "      <td>GRP_0</td>\n",
              "      <td>outlook \\r\\n\\r\\nreceived from: hmjdrvpb.komuay...</td>\n",
              "      <td>24</td>\n",
              "    </tr>\n",
              "    <tr>\n",
              "      <th>2</th>\n",
              "      <td>cant log in to vpn</td>\n",
              "      <td>\\r\\n\\r\\nreceived from: eylqgodm.ybqkwiam@gmail...</td>\n",
              "      <td>eylqgodm ybqkwiam</td>\n",
              "      <td>GRP_0</td>\n",
              "      <td>cant log in to vpn \\r\\n\\r\\nreceived from: eylq...</td>\n",
              "      <td>14</td>\n",
              "    </tr>\n",
              "    <tr>\n",
              "      <th>3</th>\n",
              "      <td>unable to access hr_tool page</td>\n",
              "      <td>unable to access hr_tool page</td>\n",
              "      <td>xbkucsvz gcpydteq</td>\n",
              "      <td>GRP_0</td>\n",
              "      <td>unable to access hr_tool page</td>\n",
              "      <td>5</td>\n",
              "    </tr>\n",
              "    <tr>\n",
              "      <th>4</th>\n",
              "      <td>skype error</td>\n",
              "      <td>skype error</td>\n",
              "      <td>owlgqjme qhcozdfx</td>\n",
              "      <td>GRP_0</td>\n",
              "      <td>skype error</td>\n",
              "      <td>3</td>\n",
              "    </tr>\n",
              "  </tbody>\n",
              "</table>\n",
              "</div>"
            ],
            "text/plain": [
              "               Short description  ... len_final_Description\n",
              "0                    login issue  ...                    31\n",
              "1                        outlook  ...                    24\n",
              "2             cant log in to vpn  ...                    14\n",
              "3  unable to access hr_tool page  ...                     5\n",
              "4                   skype error   ...                     3\n",
              "\n",
              "[5 rows x 6 columns]"
            ]
          },
          "metadata": {
            "tags": []
          },
          "execution_count": 26
        }
      ]
    },
    {
      "cell_type": "code",
      "metadata": {
        "id": "fUeIZGwZ_3D6",
        "colab_type": "code",
        "colab": {
          "base_uri": "https://localhost:8080/",
          "height": 34
        },
        "outputId": "9677c1b6-b40c-444b-dd4a-77afab1b2811"
      },
      "source": [
        "data['len_final_Description'].min()"
      ],
      "execution_count": 27,
      "outputs": [
        {
          "output_type": "execute_result",
          "data": {
            "text/plain": [
              "1"
            ]
          },
          "metadata": {
            "tags": []
          },
          "execution_count": 27
        }
      ]
    },
    {
      "cell_type": "code",
      "metadata": {
        "id": "ALJdTn80_3Ta",
        "colab_type": "code",
        "colab": {
          "base_uri": "https://localhost:8080/",
          "height": 34
        },
        "outputId": "95a6bec1-4516-4c7b-8190-fcd46bd42840"
      },
      "source": [
        "data['len_final_Description'].max()"
      ],
      "execution_count": 28,
      "outputs": [
        {
          "output_type": "execute_result",
          "data": {
            "text/plain": [
              "1431"
            ]
          },
          "metadata": {
            "tags": []
          },
          "execution_count": 28
        }
      ]
    },
    {
      "cell_type": "code",
      "metadata": {
        "id": "v0hlnmyRntTi",
        "colab_type": "code",
        "colab": {
          "base_uri": "https://localhost:8080/",
          "height": 204
        },
        "outputId": "1a25a383-6a40-4bfc-cc3e-479dec57a443"
      },
      "source": [
        "data_updated = data.drop(['Short description', 'Description', 'Caller'], axis=1)\n",
        "data_updated.head()"
      ],
      "execution_count": 29,
      "outputs": [
        {
          "output_type": "execute_result",
          "data": {
            "text/html": [
              "<div>\n",
              "<style scoped>\n",
              "    .dataframe tbody tr th:only-of-type {\n",
              "        vertical-align: middle;\n",
              "    }\n",
              "\n",
              "    .dataframe tbody tr th {\n",
              "        vertical-align: top;\n",
              "    }\n",
              "\n",
              "    .dataframe thead th {\n",
              "        text-align: right;\n",
              "    }\n",
              "</style>\n",
              "<table border=\"1\" class=\"dataframe\">\n",
              "  <thead>\n",
              "    <tr style=\"text-align: right;\">\n",
              "      <th></th>\n",
              "      <th>Assignment group</th>\n",
              "      <th>final_description</th>\n",
              "      <th>len_final_Description</th>\n",
              "    </tr>\n",
              "  </thead>\n",
              "  <tbody>\n",
              "    <tr>\n",
              "      <th>0</th>\n",
              "      <td>GRP_0</td>\n",
              "      <td>login issue -verified user details.(employee# ...</td>\n",
              "      <td>31</td>\n",
              "    </tr>\n",
              "    <tr>\n",
              "      <th>1</th>\n",
              "      <td>GRP_0</td>\n",
              "      <td>outlook \\r\\n\\r\\nreceived from: hmjdrvpb.komuay...</td>\n",
              "      <td>24</td>\n",
              "    </tr>\n",
              "    <tr>\n",
              "      <th>2</th>\n",
              "      <td>GRP_0</td>\n",
              "      <td>cant log in to vpn \\r\\n\\r\\nreceived from: eylq...</td>\n",
              "      <td>14</td>\n",
              "    </tr>\n",
              "    <tr>\n",
              "      <th>3</th>\n",
              "      <td>GRP_0</td>\n",
              "      <td>unable to access hr_tool page</td>\n",
              "      <td>5</td>\n",
              "    </tr>\n",
              "    <tr>\n",
              "      <th>4</th>\n",
              "      <td>GRP_0</td>\n",
              "      <td>skype error</td>\n",
              "      <td>3</td>\n",
              "    </tr>\n",
              "  </tbody>\n",
              "</table>\n",
              "</div>"
            ],
            "text/plain": [
              "  Assignment group  ... len_final_Description\n",
              "0            GRP_0  ...                    31\n",
              "1            GRP_0  ...                    24\n",
              "2            GRP_0  ...                    14\n",
              "3            GRP_0  ...                     5\n",
              "4            GRP_0  ...                     3\n",
              "\n",
              "[5 rows x 3 columns]"
            ]
          },
          "metadata": {
            "tags": []
          },
          "execution_count": 29
        }
      ]
    },
    {
      "cell_type": "code",
      "metadata": {
        "id": "U-XQVvFJ1qB7",
        "colab_type": "code",
        "colab": {}
      },
      "source": [
        "contractions = { \n",
        "\"ain't\": \"am not / are not / is not / has not / have not\",\n",
        "\"aren't\": \"are not / am not\",\n",
        "\"can't\": \"cannot\",\n",
        "\"can't've\": \"cannot have\",\n",
        "\"'cause\": \"because\",\n",
        "\"could've\": \"could have\",\n",
        "\"couldn't\": \"could not\",\n",
        "\"couldn't've\": \"could not have\",\n",
        "\"didn't\": \"did not\",\n",
        "\"doesn't\": \"does not\",\n",
        "\"don't\": \"do not\",\n",
        "\"hadn't\": \"had not\",\n",
        "\"hadn't've\": \"had not have\",\n",
        "\"hasn't\": \"has not\",\n",
        "\"haven't\": \"have not\",\n",
        "\"he'd\": \"he had / he would\",\n",
        "\"he'd've\": \"he would have\",\n",
        "\"he'll\": \"he shall / he will\",\n",
        "\"he'll've\": \"he shall have / he will have\",\n",
        "\"he's\": \"he has / he is\",\n",
        "\"how'd\": \"how did\",\n",
        "\"how'd'y\": \"how do you\",\n",
        "\"how'll\": \"how will\",\n",
        "\"how's\": \"how has / how is / how does\",\n",
        "\"I'd\": \"I had / I would\",\n",
        "\"I'd've\": \"I would have\",\n",
        "\"I'll\": \"I shall / I will\",\n",
        "\"I'll've\": \"I shall have / I will have\",\n",
        "\"I'm\": \"I am\",\n",
        "\"I've\": \"I have\",\n",
        "\"isn't\": \"is not\",\n",
        "\"it'd\": \"it had / it would\",\n",
        "\"it'd've\": \"it would have\",\n",
        "\"it'll\": \"it shall / it will\",\n",
        "\"it'll've\": \"it shall have / it will have\",\n",
        "\"it's\": \"it has / it is\",\n",
        "\"let's\": \"let us\",\n",
        "\"ma'am\": \"madam\",\n",
        "\"mayn't\": \"may not\",\n",
        "\"might've\": \"might have\",\n",
        "\"mightn't\": \"might not\",\n",
        "\"mightn't've\": \"might not have\",\n",
        "\"must've\": \"must have\",\n",
        "\"mustn't\": \"must not\",\n",
        "\"mustn't've\": \"must not have\",\n",
        "\"needn't\": \"need not\",\n",
        "\"needn't've\": \"need not have\",\n",
        "\"o'clock\": \"of the clock\",\n",
        "\"oughtn't\": \"ought not\",\n",
        "\"oughtn't've\": \"ought not have\",\n",
        "\"shan't\": \"shall not\",\n",
        "\"sha'n't\": \"shall not\",\n",
        "\"shan't've\": \"shall not have\",\n",
        "\"she'd\": \"she had / she would\",\n",
        "\"she'd've\": \"she would have\",\n",
        "\"she'll\": \"she shall / she will\",\n",
        "\"she'll've\": \"she shall have / she will have\",\n",
        "\"she's\": \"she has / she is\",\n",
        "\"should've\": \"should have\",\n",
        "\"shouldn't\": \"should not\",\n",
        "\"shouldn't've\": \"should not have\",\n",
        "\"so've\": \"so have\",\n",
        "\"so's\": \"so as / so is\",\n",
        "\"that'd\": \"that would / that had\",\n",
        "\"that'd've\": \"that would have\",\n",
        "\"that's\": \"that has / that is\",\n",
        "\"there'd\": \"there had / there would\",\n",
        "\"there'd've\": \"there would have\",\n",
        "\"there's\": \"there has / there is\",\n",
        "\"they'd\": \"they had / they would\",\n",
        "\"they'd've\": \"they would have\",\n",
        "\"they'll\": \"they shall / they will\",\n",
        "\"they'll've\": \"they shall have / they will have\",\n",
        "\"they're\": \"they are\",\n",
        "\"they've\": \"they have\",\n",
        "\"to've\": \"to have\",\n",
        "\"wasn't\": \"was not\",\n",
        "\"we'd\": \"we had / we would\",\n",
        "\"we'd've\": \"we would have\",\n",
        "\"we'll\": \"we will\",\n",
        "\"we'll've\": \"we will have\",\n",
        "\"we're\": \"we are\",\n",
        "\"we've\": \"we have\",\n",
        "\"weren't\": \"were not\",\n",
        "\"what'll\": \"what shall / what will\",\n",
        "\"what'll've\": \"what shall have / what will have\",\n",
        "\"what're\": \"what are\",\n",
        "\"what's\": \"what has / what is\",\n",
        "\"what've\": \"what have\",\n",
        "\"when's\": \"when has / when is\",\n",
        "\"when've\": \"when have\",\n",
        "\"where'd\": \"where did\",\n",
        "\"where's\": \"where has / where is\",\n",
        "\"where've\": \"where have\",\n",
        "\"who'll\": \"who shall / who will\",\n",
        "\"who'll've\": \"who shall have / who will have\",\n",
        "\"who's\": \"who has / who is\",\n",
        "\"who've\": \"who have\",\n",
        "\"why's\": \"why has / why is\",\n",
        "\"why've\": \"why have\",\n",
        "\"will've\": \"will have\",\n",
        "\"won't\": \"will not\",\n",
        "\"won't've\": \"will not have\",\n",
        "\"would've\": \"would have\",\n",
        "\"wouldn't\": \"would not\",\n",
        "\"wouldn't've\": \"would not have\",\n",
        "\"y'all\": \"you all\",\n",
        "\"y'all'd\": \"you all would\",\n",
        "\"y'all'd've\": \"you all would have\",\n",
        "\"y'all're\": \"you all are\",\n",
        "\"y'all've\": \"you all have\",\n",
        "\"you'd\": \"you had / you would\",\n",
        "\"you'd've\": \"you would have\",\n",
        "\"you'll\": \"you shall / you will\",\n",
        "\"you'll've\": \"you shall have / you will have\",\n",
        "\"you're\": \"you are\",\n",
        "\"you've\": \"you have\"\n",
        "}"
      ],
      "execution_count": 30,
      "outputs": []
    },
    {
      "cell_type": "code",
      "metadata": {
        "id": "r8djqCWr4KZz",
        "colab_type": "code",
        "colab": {}
      },
      "source": [
        "def clean_text(text, remove_stopwords=True):\n",
        "  # Convert words to lower case\n",
        "  text = text.lower()\n",
        "  if True:\n",
        "    text = text.split()\n",
        "    new_text = []\n",
        "    for word in text:\n",
        "      if word in contractions:\n",
        "        new_text.append(contractions[word])\n",
        "      else:\n",
        "        new_text.append(word)\n",
        "      text = \" \".join(new_text)\n",
        "      text = re.sub(r\"received from:\",' ',text)\n",
        "      text = re.sub(r\"from:\",' ',text)\n",
        "      text = re.sub(r\"to:\",' ',text)\n",
        "      text = re.sub(r\"subject:\",' ',text)\n",
        "      text = re.sub(r\"sent:\",' ',text)\n",
        "      text = re.sub(r\"ic:\",' ',text)\n",
        "      text = re.sub(r\"cc:\",' ',text)\n",
        "      text = re.sub(r\"bcc:\",' ',text)\n",
        "      text = re.sub(r'https?:\\/\\/.*[\\r\\n]*', '', text, flags=re.MULTILINE)\n",
        "      text = re.sub(r'\\S+@\\S+', ' ', text,re.I|re.A)\n",
        "      text = re.sub(r'\\<a href', ' ', text)\n",
        "      text = re.sub(r'&amp;', '', text)\n",
        "      text = re.sub(r'[_\"\\-;%()|+&=*%.,!?:#$@\\[\\]/]', ' ', text)\n",
        "      text = re.sub(r'<br />', ' ', text)\n",
        "      text = re.sub(r'\\'', ' ', text)\n",
        "      text = ' '.join(re.sub(\"[^\\u0030-\\u0039\\u0041-\\u005a\\u0061-\\u007a]\", \" \", text).split())\n",
        "      if remove_stopwords:\n",
        "        text = text.split()\n",
        "        stops = set(stopwords.words(\"english\"))\n",
        "        stops.add('received')\n",
        "        stops.add('hello')\n",
        "        stops.add('team')\n",
        "        stops.add('Thanks')\n",
        "        stops.add('Regards')\n",
        "        text = [w for w in text if not w in stops]\n",
        "        text = \" \".join(text)\n",
        "  return text"
      ],
      "execution_count": 31,
      "outputs": []
    },
    {
      "cell_type": "code",
      "metadata": {
        "id": "rJm8Qz5k4Ooo",
        "colab_type": "code",
        "colab": {
          "base_uri": "https://localhost:8080/",
          "height": 68
        },
        "outputId": "7e49fd4e-2b35-4c45-830b-1d03b9187924"
      },
      "source": [
        "import nltk\n",
        "nltk.download('stopwords')"
      ],
      "execution_count": 32,
      "outputs": [
        {
          "output_type": "stream",
          "text": [
            "[nltk_data] Downloading package stopwords to /root/nltk_data...\n",
            "[nltk_data]   Unzipping corpora/stopwords.zip.\n"
          ],
          "name": "stdout"
        },
        {
          "output_type": "execute_result",
          "data": {
            "text/plain": [
              "True"
            ]
          },
          "metadata": {
            "tags": []
          },
          "execution_count": 32
        }
      ]
    },
    {
      "cell_type": "code",
      "metadata": {
        "id": "jzq3JYzU4Umm",
        "colab_type": "code",
        "colab": {}
      },
      "source": [
        "import re\n",
        "from nltk.corpus import stopwords \n",
        "from pickle import dump, load"
      ],
      "execution_count": 33,
      "outputs": []
    },
    {
      "cell_type": "code",
      "metadata": {
        "id": "mjQvyDn54ai2",
        "colab_type": "code",
        "colab": {}
      },
      "source": [
        "data_updated['clean_description'] = data_updated['final_description'].apply(clean_text)"
      ],
      "execution_count": 34,
      "outputs": []
    },
    {
      "cell_type": "code",
      "metadata": {
        "id": "zDqJO7kzAjm1",
        "colab_type": "code",
        "colab": {
          "base_uri": "https://localhost:8080/",
          "height": 204
        },
        "outputId": "3436c3bd-ce3e-4402-9274-471ccc53c474"
      },
      "source": [
        "data_updated.head()"
      ],
      "execution_count": 35,
      "outputs": [
        {
          "output_type": "execute_result",
          "data": {
            "text/html": [
              "<div>\n",
              "<style scoped>\n",
              "    .dataframe tbody tr th:only-of-type {\n",
              "        vertical-align: middle;\n",
              "    }\n",
              "\n",
              "    .dataframe tbody tr th {\n",
              "        vertical-align: top;\n",
              "    }\n",
              "\n",
              "    .dataframe thead th {\n",
              "        text-align: right;\n",
              "    }\n",
              "</style>\n",
              "<table border=\"1\" class=\"dataframe\">\n",
              "  <thead>\n",
              "    <tr style=\"text-align: right;\">\n",
              "      <th></th>\n",
              "      <th>Assignment group</th>\n",
              "      <th>final_description</th>\n",
              "      <th>len_final_Description</th>\n",
              "      <th>clean_description</th>\n",
              "    </tr>\n",
              "  </thead>\n",
              "  <tbody>\n",
              "    <tr>\n",
              "      <th>0</th>\n",
              "      <td>GRP_0</td>\n",
              "      <td>login issue -verified user details.(employee# ...</td>\n",
              "      <td>31</td>\n",
              "      <td>login issue verified user details employee man...</td>\n",
              "    </tr>\n",
              "    <tr>\n",
              "      <th>1</th>\n",
              "      <td>GRP_0</td>\n",
              "      <td>outlook \\r\\n\\r\\nreceived from: hmjdrvpb.komuay...</td>\n",
              "      <td>24</td>\n",
              "      <td>outlook meetings skype meetings etc appearing ...</td>\n",
              "    </tr>\n",
              "    <tr>\n",
              "      <th>2</th>\n",
              "      <td>GRP_0</td>\n",
              "      <td>cant log in to vpn \\r\\n\\r\\nreceived from: eylq...</td>\n",
              "      <td>14</td>\n",
              "      <td>cant log vpn hi cannot log vpn best</td>\n",
              "    </tr>\n",
              "    <tr>\n",
              "      <th>3</th>\n",
              "      <td>GRP_0</td>\n",
              "      <td>unable to access hr_tool page</td>\n",
              "      <td>5</td>\n",
              "      <td>unable access hr tool page</td>\n",
              "    </tr>\n",
              "    <tr>\n",
              "      <th>4</th>\n",
              "      <td>GRP_0</td>\n",
              "      <td>skype error</td>\n",
              "      <td>3</td>\n",
              "      <td>skype error</td>\n",
              "    </tr>\n",
              "  </tbody>\n",
              "</table>\n",
              "</div>"
            ],
            "text/plain": [
              "  Assignment group  ...                                  clean_description\n",
              "0            GRP_0  ...  login issue verified user details employee man...\n",
              "1            GRP_0  ...  outlook meetings skype meetings etc appearing ...\n",
              "2            GRP_0  ...                cant log vpn hi cannot log vpn best\n",
              "3            GRP_0  ...                         unable access hr tool page\n",
              "4            GRP_0  ...                                        skype error\n",
              "\n",
              "[5 rows x 4 columns]"
            ]
          },
          "metadata": {
            "tags": []
          },
          "execution_count": 35
        }
      ]
    },
    {
      "cell_type": "code",
      "metadata": {
        "id": "Tvro62uzAnHR",
        "colab_type": "code",
        "colab": {
          "base_uri": "https://localhost:8080/",
          "height": 35
        },
        "outputId": "07646222-8095-4860-a116-cf30f8d40ab0"
      },
      "source": [
        "data_updated['final_description'][1]"
      ],
      "execution_count": 36,
      "outputs": [
        {
          "output_type": "execute_result",
          "data": {
            "application/vnd.google.colaboratory.intrinsic": {
              "type": "string"
            },
            "text/plain": [
              "'outlook \\r\\n\\r\\nreceived from: hmjdrvpb.komuaywn@gmail.com\\r\\n\\r\\nhello team,\\r\\n\\r\\nmy meetings/skype meetings etc are not appearing in my outlook calendar, can somebody please advise how to correct this?\\r\\n\\r\\nkind '"
            ]
          },
          "metadata": {
            "tags": []
          },
          "execution_count": 36
        }
      ]
    },
    {
      "cell_type": "code",
      "metadata": {
        "id": "HQ03KtjqA9Xr",
        "colab_type": "code",
        "colab": {
          "base_uri": "https://localhost:8080/",
          "height": 35
        },
        "outputId": "6abd87e0-fee7-4390-b720-9a700d157c13"
      },
      "source": [
        "data_updated['clean_description'][1]"
      ],
      "execution_count": 37,
      "outputs": [
        {
          "output_type": "execute_result",
          "data": {
            "application/vnd.google.colaboratory.intrinsic": {
              "type": "string"
            },
            "text/plain": [
              "'outlook meetings skype meetings etc appearing outlook calendar somebody please advise correct kind'"
            ]
          },
          "metadata": {
            "tags": []
          },
          "execution_count": 37
        }
      ]
    },
    {
      "cell_type": "code",
      "metadata": {
        "id": "k0gxa4iVtWtH",
        "colab_type": "code",
        "colab": {
          "base_uri": "https://localhost:8080/",
          "height": 204
        },
        "outputId": "f4320b05-935f-49de-8aa3-a3430e7ede98"
      },
      "source": [
        "data_updated['len_clean_Description'] = data_updated['clean_description'].apply(lambda x: len(x.split(\" \")))\n",
        "data_updated.head()"
      ],
      "execution_count": 38,
      "outputs": [
        {
          "output_type": "execute_result",
          "data": {
            "text/html": [
              "<div>\n",
              "<style scoped>\n",
              "    .dataframe tbody tr th:only-of-type {\n",
              "        vertical-align: middle;\n",
              "    }\n",
              "\n",
              "    .dataframe tbody tr th {\n",
              "        vertical-align: top;\n",
              "    }\n",
              "\n",
              "    .dataframe thead th {\n",
              "        text-align: right;\n",
              "    }\n",
              "</style>\n",
              "<table border=\"1\" class=\"dataframe\">\n",
              "  <thead>\n",
              "    <tr style=\"text-align: right;\">\n",
              "      <th></th>\n",
              "      <th>Assignment group</th>\n",
              "      <th>final_description</th>\n",
              "      <th>len_final_Description</th>\n",
              "      <th>clean_description</th>\n",
              "      <th>len_clean_Description</th>\n",
              "    </tr>\n",
              "  </thead>\n",
              "  <tbody>\n",
              "    <tr>\n",
              "      <th>0</th>\n",
              "      <td>GRP_0</td>\n",
              "      <td>login issue -verified user details.(employee# ...</td>\n",
              "      <td>31</td>\n",
              "      <td>login issue verified user details employee man...</td>\n",
              "      <td>24</td>\n",
              "    </tr>\n",
              "    <tr>\n",
              "      <th>1</th>\n",
              "      <td>GRP_0</td>\n",
              "      <td>outlook \\r\\n\\r\\nreceived from: hmjdrvpb.komuay...</td>\n",
              "      <td>24</td>\n",
              "      <td>outlook meetings skype meetings etc appearing ...</td>\n",
              "      <td>13</td>\n",
              "    </tr>\n",
              "    <tr>\n",
              "      <th>2</th>\n",
              "      <td>GRP_0</td>\n",
              "      <td>cant log in to vpn \\r\\n\\r\\nreceived from: eylq...</td>\n",
              "      <td>14</td>\n",
              "      <td>cant log vpn hi cannot log vpn best</td>\n",
              "      <td>8</td>\n",
              "    </tr>\n",
              "    <tr>\n",
              "      <th>3</th>\n",
              "      <td>GRP_0</td>\n",
              "      <td>unable to access hr_tool page</td>\n",
              "      <td>5</td>\n",
              "      <td>unable access hr tool page</td>\n",
              "      <td>5</td>\n",
              "    </tr>\n",
              "    <tr>\n",
              "      <th>4</th>\n",
              "      <td>GRP_0</td>\n",
              "      <td>skype error</td>\n",
              "      <td>3</td>\n",
              "      <td>skype error</td>\n",
              "      <td>2</td>\n",
              "    </tr>\n",
              "  </tbody>\n",
              "</table>\n",
              "</div>"
            ],
            "text/plain": [
              "  Assignment group  ... len_clean_Description\n",
              "0            GRP_0  ...                    24\n",
              "1            GRP_0  ...                    13\n",
              "2            GRP_0  ...                     8\n",
              "3            GRP_0  ...                     5\n",
              "4            GRP_0  ...                     2\n",
              "\n",
              "[5 rows x 5 columns]"
            ]
          },
          "metadata": {
            "tags": []
          },
          "execution_count": 38
        }
      ]
    },
    {
      "cell_type": "code",
      "metadata": {
        "id": "poLRiYxnkUAW",
        "colab_type": "code",
        "colab": {
          "base_uri": "https://localhost:8080/",
          "height": 34
        },
        "outputId": "3ab11ff5-b99a-4f49-c238-8d1fdf67994f"
      },
      "source": [
        "data_updated['len_clean_Description'].min()"
      ],
      "execution_count": 39,
      "outputs": [
        {
          "output_type": "execute_result",
          "data": {
            "text/plain": [
              "1"
            ]
          },
          "metadata": {
            "tags": []
          },
          "execution_count": 39
        }
      ]
    },
    {
      "cell_type": "code",
      "metadata": {
        "id": "ff2CAvOykZ-L",
        "colab_type": "code",
        "colab": {
          "base_uri": "https://localhost:8080/",
          "height": 34
        },
        "outputId": "9cc76509-b3b8-4ae8-8c0e-35004430d3c4"
      },
      "source": [
        "data_updated['len_clean_Description'].max()"
      ],
      "execution_count": 40,
      "outputs": [
        {
          "output_type": "execute_result",
          "data": {
            "text/plain": [
              "1820"
            ]
          },
          "metadata": {
            "tags": []
          },
          "execution_count": 40
        }
      ]
    },
    {
      "cell_type": "code",
      "metadata": {
        "id": "I3iirJo60Z17",
        "colab_type": "code",
        "colab": {
          "base_uri": "https://localhost:8080/",
          "height": 204
        },
        "outputId": "6ceb7df1-5335-48c8-c071-814e40233196"
      },
      "source": [
        "from sklearn import preprocessing\n",
        "le = preprocessing.LabelEncoder()\n",
        "le.fit(data_updated['Assignment group'])\n",
        "data_updated['Target'] = le.transform(data_updated['Assignment group'])\n",
        "data_updated.head()"
      ],
      "execution_count": 41,
      "outputs": [
        {
          "output_type": "execute_result",
          "data": {
            "text/html": [
              "<div>\n",
              "<style scoped>\n",
              "    .dataframe tbody tr th:only-of-type {\n",
              "        vertical-align: middle;\n",
              "    }\n",
              "\n",
              "    .dataframe tbody tr th {\n",
              "        vertical-align: top;\n",
              "    }\n",
              "\n",
              "    .dataframe thead th {\n",
              "        text-align: right;\n",
              "    }\n",
              "</style>\n",
              "<table border=\"1\" class=\"dataframe\">\n",
              "  <thead>\n",
              "    <tr style=\"text-align: right;\">\n",
              "      <th></th>\n",
              "      <th>Assignment group</th>\n",
              "      <th>final_description</th>\n",
              "      <th>len_final_Description</th>\n",
              "      <th>clean_description</th>\n",
              "      <th>len_clean_Description</th>\n",
              "      <th>Target</th>\n",
              "    </tr>\n",
              "  </thead>\n",
              "  <tbody>\n",
              "    <tr>\n",
              "      <th>0</th>\n",
              "      <td>GRP_0</td>\n",
              "      <td>login issue -verified user details.(employee# ...</td>\n",
              "      <td>31</td>\n",
              "      <td>login issue verified user details employee man...</td>\n",
              "      <td>24</td>\n",
              "      <td>0</td>\n",
              "    </tr>\n",
              "    <tr>\n",
              "      <th>1</th>\n",
              "      <td>GRP_0</td>\n",
              "      <td>outlook \\r\\n\\r\\nreceived from: hmjdrvpb.komuay...</td>\n",
              "      <td>24</td>\n",
              "      <td>outlook meetings skype meetings etc appearing ...</td>\n",
              "      <td>13</td>\n",
              "      <td>0</td>\n",
              "    </tr>\n",
              "    <tr>\n",
              "      <th>2</th>\n",
              "      <td>GRP_0</td>\n",
              "      <td>cant log in to vpn \\r\\n\\r\\nreceived from: eylq...</td>\n",
              "      <td>14</td>\n",
              "      <td>cant log vpn hi cannot log vpn best</td>\n",
              "      <td>8</td>\n",
              "      <td>0</td>\n",
              "    </tr>\n",
              "    <tr>\n",
              "      <th>3</th>\n",
              "      <td>GRP_0</td>\n",
              "      <td>unable to access hr_tool page</td>\n",
              "      <td>5</td>\n",
              "      <td>unable access hr tool page</td>\n",
              "      <td>5</td>\n",
              "      <td>0</td>\n",
              "    </tr>\n",
              "    <tr>\n",
              "      <th>4</th>\n",
              "      <td>GRP_0</td>\n",
              "      <td>skype error</td>\n",
              "      <td>3</td>\n",
              "      <td>skype error</td>\n",
              "      <td>2</td>\n",
              "      <td>0</td>\n",
              "    </tr>\n",
              "  </tbody>\n",
              "</table>\n",
              "</div>"
            ],
            "text/plain": [
              "  Assignment group  ... Target\n",
              "0            GRP_0  ...      0\n",
              "1            GRP_0  ...      0\n",
              "2            GRP_0  ...      0\n",
              "3            GRP_0  ...      0\n",
              "4            GRP_0  ...      0\n",
              "\n",
              "[5 rows x 6 columns]"
            ]
          },
          "metadata": {
            "tags": []
          },
          "execution_count": 41
        }
      ]
    },
    {
      "cell_type": "code",
      "metadata": {
        "id": "3kZn1ti8kd8q",
        "colab_type": "code",
        "colab": {
          "base_uri": "https://localhost:8080/",
          "height": 34
        },
        "outputId": "95389dfb-c8d1-46e7-bea9-f730182af0ff"
      },
      "source": [
        "from keras.preprocessing.text import Tokenizer\n",
        "from keras.preprocessing.sequence import pad_sequences\n",
        "from keras.layers import Dense, Input, CuDNNLSTM, Embedding, Dropout, Activation, Flatten, Bidirectional, GlobalMaxPool1D, LSTM\n",
        "from keras.models import Model, Sequential"
      ],
      "execution_count": 42,
      "outputs": [
        {
          "output_type": "stream",
          "text": [
            "Using TensorFlow backend.\n"
          ],
          "name": "stderr"
        }
      ]
    },
    {
      "cell_type": "code",
      "metadata": {
        "id": "6gRDybRgpFmI",
        "colab_type": "code",
        "colab": {}
      },
      "source": [
        "all_words = list()\n",
        "for comp in data_updated['clean_description']:\n",
        "    for w in comp.split(\" \"):\n",
        "        all_words.append(w)"
      ],
      "execution_count": 43,
      "outputs": []
    },
    {
      "cell_type": "code",
      "metadata": {
        "id": "ZdrGYGi9qntY",
        "colab_type": "code",
        "colab": {
          "base_uri": "https://localhost:8080/",
          "height": 34
        },
        "outputId": "f357ef0e-7534-4131-dbd8-a74a1b335328"
      },
      "source": [
        "vocab = len(all_words)\n",
        "vocab"
      ],
      "execution_count": 44,
      "outputs": [
        {
          "output_type": "execute_result",
          "data": {
            "text/plain": [
              "218591"
            ]
          },
          "metadata": {
            "tags": []
          },
          "execution_count": 44
        }
      ]
    },
    {
      "cell_type": "code",
      "metadata": {
        "id": "RmExQPrvrZcM",
        "colab_type": "code",
        "colab": {}
      },
      "source": [
        "max_features = 18000\n",
        "maxlen = 300 #Keeping 25 by considering the length of all the sentences\n",
        "embedding_size = 300"
      ],
      "execution_count": 45,
      "outputs": []
    },
    {
      "cell_type": "code",
      "metadata": {
        "id": "A5JKs6D1t7X5",
        "colab_type": "code",
        "colab": {}
      },
      "source": [
        "tokenizer = Tokenizer(num_words=max_features)\n",
        "tokenizer.fit_on_texts(list(data_updated['clean_description']))"
      ],
      "execution_count": 46,
      "outputs": []
    },
    {
      "cell_type": "code",
      "metadata": {
        "id": "v0P9f1o5uHgn",
        "colab_type": "code",
        "colab": {
          "base_uri": "https://localhost:8080/",
          "height": 408
        },
        "outputId": "885b7172-dda3-4922-a081-588727127655"
      },
      "source": [
        "X = tokenizer.texts_to_sequences(data_updated['clean_description'])\n",
        "X = pad_sequences(X, maxlen = maxlen)\n",
        "\n",
        "from keras.utils import to_categorical\n",
        "y = to_categorical(data_updated['Target'])\n",
        "\n",
        "print(\"Number of Samples:\", len(X))\n",
        "print(X[0])\n",
        "print(\"Number of Labels: \", len(y))\n",
        "print(y[0])"
      ],
      "execution_count": 47,
      "outputs": [
        {
          "output_type": "stream",
          "text": [
            "Number of Samples: 8500\n",
            "[  0   0   0   0   0   0   0   0   0   0   0   0   0   0   0   0   0   0\n",
            "   0   0   0   0   0   0   0   0   0   0   0   0   0   0   0   0   0   0\n",
            "   0   0   0   0   0   0   0   0   0   0   0   0   0   0   0   0   0   0\n",
            "   0   0   0   0   0   0   0   0   0   0   0   0   0   0   0   0   0   0\n",
            "   0   0   0   0   0   0   0   0   0   0   0   0   0   0   0   0   0   0\n",
            "   0   0   0   0   0   0   0   0   0   0   0   0   0   0   0   0   0   0\n",
            "   0   0   0   0   0   0   0   0   0   0   0   0   0   0   0   0   0   0\n",
            "   0   0   0   0   0   0   0   0   0   0   0   0   0   0   0   0   0   0\n",
            "   0   0   0   0   0   0   0   0   0   0   0   0   0   0   0   0   0   0\n",
            "   0   0   0   0   0   0   0   0   0   0   0   0   0   0   0   0   0   0\n",
            "   0   0   0   0   0   0   0   0   0   0   0   0   0   0   0   0   0   0\n",
            "   0   0   0   0   0   0   0   0   0   0   0   0   0   0   0   0   0   0\n",
            "   0   0   0   0   0   0   0   0   0   0   0   0   0   0   0   0   0   0\n",
            "   0   0   0   0   0   0   0   0   0   0   0   0   0   0   0   0   0   0\n",
            "   0   0   0   0   0   0   0   0   0   0   0   0   0   0   0   0   0   0\n",
            "   0   0   0   0   0   0  33  19 207  15 197 218 102  34 406  15  34 308\n",
            "  18   8 612  15  33  89 391 309  54  33  19 289]\n",
            "Number of Labels:  8500\n",
            "[1. 0. 0. 0. 0. 0. 0. 0. 0. 0. 0. 0. 0. 0. 0. 0. 0. 0. 0. 0. 0. 0. 0. 0.\n",
            " 0. 0. 0. 0. 0. 0. 0. 0. 0. 0. 0. 0. 0. 0. 0. 0. 0. 0. 0. 0. 0. 0. 0. 0.\n",
            " 0. 0. 0. 0. 0. 0. 0. 0. 0. 0. 0. 0. 0. 0. 0. 0. 0. 0. 0. 0. 0. 0. 0. 0.\n",
            " 0. 0.]\n"
          ],
          "name": "stdout"
        }
      ]
    },
    {
      "cell_type": "code",
      "metadata": {
        "id": "ERJYHXyLub5K",
        "colab_type": "code",
        "colab": {
          "base_uri": "https://localhost:8080/",
          "height": 34
        },
        "outputId": "2e3002e9-b8e1-44df-9b68-e803725e43aa"
      },
      "source": [
        "vocab = tokenizer.word_index\n",
        "vocab_size = len(vocab)\n",
        "vocab_size"
      ],
      "execution_count": 48,
      "outputs": [
        {
          "output_type": "execute_result",
          "data": {
            "text/plain": [
              "19619"
            ]
          },
          "metadata": {
            "tags": []
          },
          "execution_count": 48
        }
      ]
    },
    {
      "cell_type": "code",
      "metadata": {
        "id": "qfMjsjqEula8",
        "colab_type": "code",
        "colab": {}
      },
      "source": [
        "project_path = '/content/drive/My Drive/GL/Capstone_Project/'\n",
        "glove_file = project_path + \"glove.6B.zip\""
      ],
      "execution_count": 49,
      "outputs": []
    },
    {
      "cell_type": "code",
      "metadata": {
        "id": "IeAKrPMOu_IZ",
        "colab_type": "code",
        "colab": {}
      },
      "source": [
        "from zipfile import ZipFile\n",
        "with ZipFile(glove_file, 'r') as z:\n",
        "  z.extractall()"
      ],
      "execution_count": 50,
      "outputs": []
    },
    {
      "cell_type": "code",
      "metadata": {
        "id": "p1PiJ-xcvbQe",
        "colab_type": "code",
        "colab": {}
      },
      "source": [
        "EMBEDDING_FILE = './glove.6B.300d.txt'\n",
        "\n",
        "embeddings = {}\n",
        "for o in open(EMBEDDING_FILE):\n",
        "    word = o.split(\" \")[0]\n",
        "    #print(word)\n",
        "    embd = o.split(\" \")[1:]\n",
        "    embd = np.asarray(embd, dtype='float32')\n",
        "    #print(embd)\n",
        "    embeddings[word] = embd"
      ],
      "execution_count": 51,
      "outputs": []
    },
    {
      "cell_type": "code",
      "metadata": {
        "id": "iGn0OQLwvoRq",
        "colab_type": "code",
        "colab": {
          "base_uri": "https://localhost:8080/",
          "height": 71
        },
        "outputId": "12198453-6f5a-41f9-a92d-0069c0b627e5"
      },
      "source": [
        "all_embs = np.stack(embeddings.values())\n",
        "emb_mean,emb_std = all_embs.mean(), all_embs.std()\n",
        "embed_size = all_embs.shape[1]"
      ],
      "execution_count": 52,
      "outputs": [
        {
          "output_type": "stream",
          "text": [
            "/usr/local/lib/python3.6/dist-packages/IPython/core/interactiveshell.py:2822: FutureWarning: arrays to stack must be passed as a \"sequence\" type such as list or tuple. Support for non-sequence iterables such as generators is deprecated as of NumPy 1.16 and will raise an error in the future.\n",
            "  if self.run_code(code, result):\n"
          ],
          "name": "stderr"
        }
      ]
    },
    {
      "cell_type": "code",
      "metadata": {
        "id": "G2ZKJfX1v2EC",
        "colab_type": "code",
        "colab": {}
      },
      "source": [
        "nb_words = min(max_features, len(vocab))\n",
        "\n",
        "embedding_matrix = np.random.normal(emb_mean, emb_std, (nb_words, embedding_size))\n",
        "for word, i in tokenizer.word_index.items():\n",
        "    if i >= max_features: continue\n",
        "    embedding_vector = embeddings.get(word)\n",
        "    if embedding_vector is not None: embedding_matrix[i] = embedding_vector"
      ],
      "execution_count": 53,
      "outputs": []
    },
    {
      "cell_type": "code",
      "metadata": {
        "id": "kBaPVO0Av6rs",
        "colab_type": "code",
        "colab": {
          "base_uri": "https://localhost:8080/",
          "height": 238
        },
        "outputId": "ceffc674-766a-4f89-b610-508418d514c5"
      },
      "source": [
        "embedding_matrix"
      ],
      "execution_count": 54,
      "outputs": [
        {
          "output_type": "execute_result",
          "data": {
            "text/plain": [
              "array([[-0.2488761 , -0.75255275,  0.15892213, ...,  0.23811495,\n",
              "        -0.3939111 , -0.53170836],\n",
              "       [-0.17794999,  0.45583001,  0.45181   , ...,  0.019476  ,\n",
              "        -0.46919999,  0.30723   ],\n",
              "       [-0.0084487 ,  0.28376001, -0.047303  , ..., -0.12586001,\n",
              "        -0.52342999,  0.10208   ],\n",
              "       ...,\n",
              "       [-0.04956378,  0.06364688,  0.27567432, ..., -0.43069058,\n",
              "         0.03240715, -0.28234224],\n",
              "       [-0.3156612 ,  0.34484763,  0.96450699, ...,  0.2595401 ,\n",
              "        -0.67389651,  0.64928185],\n",
              "       [-0.05609821,  0.08771721, -0.33825947, ..., -0.27903976,\n",
              "         0.46019739, -0.26010179]])"
            ]
          },
          "metadata": {
            "tags": []
          },
          "execution_count": 54
        }
      ]
    },
    {
      "cell_type": "code",
      "metadata": {
        "id": "iK6ubdFgwd-g",
        "colab_type": "code",
        "colab": {}
      },
      "source": [
        "model = Sequential()\n",
        "model.add(Embedding(max_features, embedding_size, weights = [embedding_matrix]))\n",
        "model.add(Bidirectional(LSTM(240, return_sequences = True)))\n",
        "model.add(GlobalMaxPool1D())\n",
        "model.add(Dense(120, activation=\"relu\"))\n",
        "model.add(Dropout(0.5))\n",
        "model.add(Dense(74, activation=\"softmax\"))\n",
        "#model.add(Dropout(0.5))\n",
        "#model.add(Dense(74, activation=\"sigmoid\"))\n",
        "model.compile(loss='categorical_crossentropy', optimizer='adam', metrics=['accuracy'])"
      ],
      "execution_count": 55,
      "outputs": []
    },
    {
      "cell_type": "code",
      "metadata": {
        "id": "eKu8hYArwnGM",
        "colab_type": "code",
        "colab": {
          "base_uri": "https://localhost:8080/",
          "height": 357
        },
        "outputId": "ac1aaf47-aa01-4bbc-ab41-7519f4f35ab4"
      },
      "source": [
        "model.summary()"
      ],
      "execution_count": 56,
      "outputs": [
        {
          "output_type": "stream",
          "text": [
            "Model: \"sequential_1\"\n",
            "_________________________________________________________________\n",
            "Layer (type)                 Output Shape              Param #   \n",
            "=================================================================\n",
            "embedding_1 (Embedding)      (None, None, 300)         5400000   \n",
            "_________________________________________________________________\n",
            "bidirectional_1 (Bidirection (None, None, 480)         1038720   \n",
            "_________________________________________________________________\n",
            "global_max_pooling1d_1 (Glob (None, 480)               0         \n",
            "_________________________________________________________________\n",
            "dense_1 (Dense)              (None, 120)               57720     \n",
            "_________________________________________________________________\n",
            "dropout_1 (Dropout)          (None, 120)               0         \n",
            "_________________________________________________________________\n",
            "dense_2 (Dense)              (None, 74)                8954      \n",
            "=================================================================\n",
            "Total params: 6,505,394\n",
            "Trainable params: 6,505,394\n",
            "Non-trainable params: 0\n",
            "_________________________________________________________________\n"
          ],
          "name": "stdout"
        }
      ]
    },
    {
      "cell_type": "code",
      "metadata": {
        "id": "r2L_poLMxIJ3",
        "colab_type": "code",
        "colab": {}
      },
      "source": [
        "from sklearn.model_selection import train_test_split\n",
        "x_train, x_test, y_train, y_test = train_test_split(X, y, test_size = 0.2 , random_state = 1) "
      ],
      "execution_count": 57,
      "outputs": []
    },
    {
      "cell_type": "code",
      "metadata": {
        "id": "BHg7bboyxPfs",
        "colab_type": "code",
        "colab": {
          "base_uri": "https://localhost:8080/",
          "height": 255
        },
        "outputId": "8b4f9940-f62a-446c-eef7-979bea7a8519"
      },
      "source": [
        "batch_size = 100\n",
        "epochs = 5\n",
        "model.fit(x_train, y_train, batch_size=batch_size, epochs=epochs, validation_data = (x_test,y_test))"
      ],
      "execution_count": 58,
      "outputs": [
        {
          "output_type": "stream",
          "text": [
            "/usr/local/lib/python3.6/dist-packages/tensorflow/python/framework/indexed_slices.py:434: UserWarning: Converting sparse IndexedSlices to a dense Tensor of unknown shape. This may consume a large amount of memory.\n",
            "  \"Converting sparse IndexedSlices to a dense Tensor of unknown shape. \"\n"
          ],
          "name": "stderr"
        },
        {
          "output_type": "stream",
          "text": [
            "Train on 6800 samples, validate on 1700 samples\n",
            "Epoch 1/5\n",
            "6800/6800 [==============================] - 62s 9ms/step - loss: 2.5131 - accuracy: 0.5100 - val_loss: 1.9791 - val_accuracy: 0.5365\n",
            "Epoch 2/5\n",
            "6800/6800 [==============================] - 60s 9ms/step - loss: 1.9132 - accuracy: 0.5700 - val_loss: 1.7326 - val_accuracy: 0.5953\n",
            "Epoch 3/5\n",
            "6800/6800 [==============================] - 61s 9ms/step - loss: 1.6066 - accuracy: 0.6193 - val_loss: 1.5550 - val_accuracy: 0.6218\n",
            "Epoch 4/5\n",
            "6800/6800 [==============================] - 61s 9ms/step - loss: 1.3743 - accuracy: 0.6643 - val_loss: 1.5042 - val_accuracy: 0.6288\n",
            "Epoch 5/5\n",
            "6800/6800 [==============================] - 61s 9ms/step - loss: 1.1432 - accuracy: 0.7128 - val_loss: 1.4248 - val_accuracy: 0.6553\n"
          ],
          "name": "stdout"
        },
        {
          "output_type": "execute_result",
          "data": {
            "text/plain": [
              "<keras.callbacks.callbacks.History at 0x7fc5d0525b70>"
            ]
          },
          "metadata": {
            "tags": []
          },
          "execution_count": 58
        }
      ]
    },
    {
      "cell_type": "code",
      "metadata": {
        "id": "XiucWwXZxTlB",
        "colab_type": "code",
        "colab": {
          "base_uri": "https://localhost:8080/",
          "height": 85
        },
        "outputId": "7b4d17e5-e75f-42cf-d825-873c1b6f4813"
      },
      "source": [
        "print(\"Accuracy of the model on Training Data is - \" , model.evaluate(x_train,y_train)[1]*100)\n",
        "print(\"Accuracy of the model on Testing Data is - \" , model.evaluate(x_test,y_test)[1]*100)"
      ],
      "execution_count": 59,
      "outputs": [
        {
          "output_type": "stream",
          "text": [
            "6800/6800 [==============================] - 16s 2ms/step\n",
            "Accuracy of the model on Training Data is -  77.92646884918213\n",
            "1700/1700 [==============================] - 4s 2ms/step\n",
            "Accuracy of the model on Testing Data is -  65.5294120311737\n"
          ],
          "name": "stdout"
        }
      ]
    },
    {
      "cell_type": "code",
      "metadata": {
        "id": "K5KJB7x47E9W",
        "colab_type": "code",
        "colab": {}
      },
      "source": [
        ""
      ],
      "execution_count": null,
      "outputs": []
    }
  ]
}